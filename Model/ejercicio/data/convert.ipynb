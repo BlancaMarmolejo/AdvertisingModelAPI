{
 "cells": [
  {
   "cell_type": "code",
   "execution_count": 7,
   "metadata": {},
   "outputs": [],
   "source": [
    "import pandas as pd\n",
    "import sqlite3\n",
    "\n",
    "def dataframe_to_db(dataframe, db_file, table_name):\n",
    "    # Connect to the database\n",
    "    conn = sqlite3.connect(db_file)\n",
    "\n",
    "    # Drop the index column\n",
    "    dataframe = dataframe.drop(\"Unnamed: 0\", axis=1)\n",
    "\n",
    "    # Write the DataFrame to the database\n",
    "    dataframe.to_sql(table_name, conn, if_exists='replace', index=False)\n",
    "\n",
    "    # Close the database connection\n",
    "    conn.close()\n",
    "\n",
    "# Example usage\n",
    "df = pd.read_csv('Advertising.csv')  # Read your CSV data into a DataFrame\n",
    "db_file = 'Advert.db'\n",
    "table_name = 'ad_table'\n",
    "dataframe_to_db(df, db_file, table_name)"
   ]
  }
 ],
 "metadata": {
  "kernelspec": {
   "display_name": "Python 3",
   "language": "python",
   "name": "python3"
  },
  "language_info": {
   "codemirror_mode": {
    "name": "ipython",
    "version": 3
   },
   "file_extension": ".py",
   "mimetype": "text/x-python",
   "name": "python",
   "nbconvert_exporter": "python",
   "pygments_lexer": "ipython3",
   "version": "3.7.4"
  },
  "orig_nbformat": 4
 },
 "nbformat": 4,
 "nbformat_minor": 2
}
